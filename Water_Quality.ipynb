{
 "cells": [
  {
   "cell_type": "markdown",
   "id": "6648f0ae-079b-4c62-a982-c8280c7f9abb",
   "metadata": {},
   "source": [
    "### Water Quality Dataset for Crop\n",
    "Water Quality Parameters Dataset (for potato crop)"
   ]
  },
  {
   "cell_type": "markdown",
   "id": "f077ba80-4990-4cb8-a486-a4e1041743f5",
   "metadata": {},
   "source": [
    "The 'Potato Crop Water Quality Parameters Dataset' includes essential water quality metrics crucial for optimal potato growth. This comprehensive dataset covers parameters such as pH levels, solids, organic carbon, and sulfate, offering valuable insights into the specific water quality requirements necessary to cultivate healthy and high-yielding potato crops. Researchers and farmers can use this data to make informed decisions regarding irrigation and soil management, ensuring the successful growth of potato plants while optimizing resource utilization and crop productivity."
   ]
  },
  {
   "cell_type": "code",
   "execution_count": 1,
   "id": "dd07e09e-49bd-495a-afbc-3a8e208b4f3d",
   "metadata": {},
   "outputs": [],
   "source": [
    "# importing libraries\n",
    "import pandas as pd\n",
    "import numpy as np\n",
    "import seaborn as sns\n",
    "import matplotlib.pyplot as plt"
   ]
  },
  {
   "cell_type": "code",
   "execution_count": 2,
   "id": "fa1695ae-e2f8-40a7-9f1d-63330a06c9c3",
   "metadata": {},
   "outputs": [
    {
     "data": {
      "text/html": [
       "<div>\n",
       "<style scoped>\n",
       "    .dataframe tbody tr th:only-of-type {\n",
       "        vertical-align: middle;\n",
       "    }\n",
       "\n",
       "    .dataframe tbody tr th {\n",
       "        vertical-align: top;\n",
       "    }\n",
       "\n",
       "    .dataframe thead th {\n",
       "        text-align: right;\n",
       "    }\n",
       "</style>\n",
       "<table border=\"1\" class=\"dataframe\">\n",
       "  <thead>\n",
       "    <tr style=\"text-align: right;\">\n",
       "      <th></th>\n",
       "      <th>ph</th>\n",
       "      <th>Hardness</th>\n",
       "      <th>Solids</th>\n",
       "      <th>Chloramines</th>\n",
       "      <th>Sulfate</th>\n",
       "      <th>Organic_carbon</th>\n",
       "      <th>Trihalomethanes</th>\n",
       "      <th>Turbidity</th>\n",
       "      <th>Check</th>\n",
       "    </tr>\n",
       "  </thead>\n",
       "  <tbody>\n",
       "    <tr>\n",
       "      <th>0</th>\n",
       "      <td>NaN</td>\n",
       "      <td>204.890456</td>\n",
       "      <td>20791.31898</td>\n",
       "      <td>7.300212</td>\n",
       "      <td>368.516441</td>\n",
       "      <td>10.379783</td>\n",
       "      <td>86.990970</td>\n",
       "      <td>2.963135</td>\n",
       "      <td>0</td>\n",
       "    </tr>\n",
       "    <tr>\n",
       "      <th>1</th>\n",
       "      <td>3.716080</td>\n",
       "      <td>129.422921</td>\n",
       "      <td>18630.05786</td>\n",
       "      <td>6.635246</td>\n",
       "      <td>NaN</td>\n",
       "      <td>15.180013</td>\n",
       "      <td>56.329076</td>\n",
       "      <td>4.500656</td>\n",
       "      <td>0</td>\n",
       "    </tr>\n",
       "    <tr>\n",
       "      <th>2</th>\n",
       "      <td>8.099124</td>\n",
       "      <td>224.236259</td>\n",
       "      <td>19909.54173</td>\n",
       "      <td>9.275884</td>\n",
       "      <td>NaN</td>\n",
       "      <td>16.868637</td>\n",
       "      <td>66.420093</td>\n",
       "      <td>3.055934</td>\n",
       "      <td>0</td>\n",
       "    </tr>\n",
       "    <tr>\n",
       "      <th>3</th>\n",
       "      <td>8.316766</td>\n",
       "      <td>214.373394</td>\n",
       "      <td>22018.41744</td>\n",
       "      <td>8.059332</td>\n",
       "      <td>356.886136</td>\n",
       "      <td>18.436525</td>\n",
       "      <td>100.341674</td>\n",
       "      <td>4.628771</td>\n",
       "      <td>0</td>\n",
       "    </tr>\n",
       "    <tr>\n",
       "      <th>4</th>\n",
       "      <td>9.092223</td>\n",
       "      <td>181.101509</td>\n",
       "      <td>17978.98634</td>\n",
       "      <td>6.546600</td>\n",
       "      <td>310.135738</td>\n",
       "      <td>11.558279</td>\n",
       "      <td>31.997993</td>\n",
       "      <td>4.075075</td>\n",
       "      <td>0</td>\n",
       "    </tr>\n",
       "  </tbody>\n",
       "</table>\n",
       "</div>"
      ],
      "text/plain": [
       "         ph    Hardness       Solids  Chloramines     Sulfate  Organic_carbon  \\\n",
       "0       NaN  204.890456  20791.31898     7.300212  368.516441       10.379783   \n",
       "1  3.716080  129.422921  18630.05786     6.635246         NaN       15.180013   \n",
       "2  8.099124  224.236259  19909.54173     9.275884         NaN       16.868637   \n",
       "3  8.316766  214.373394  22018.41744     8.059332  356.886136       18.436525   \n",
       "4  9.092223  181.101509  17978.98634     6.546600  310.135738       11.558279   \n",
       "\n",
       "   Trihalomethanes  Turbidity  Check  \n",
       "0        86.990970   2.963135      0  \n",
       "1        56.329076   4.500656      0  \n",
       "2        66.420093   3.055934      0  \n",
       "3       100.341674   4.628771      0  \n",
       "4        31.997993   4.075075      0  "
      ]
     },
     "execution_count": 2,
     "metadata": {},
     "output_type": "execute_result"
    }
   ],
   "source": [
    "# importing the data\n",
    "water_quality = pd.read_csv(\"water_quality_.csv\")\n",
    "water_quality.head()"
   ]
  },
  {
   "cell_type": "code",
   "execution_count": 3,
   "id": "1a5db60b-22de-42a2-831d-4e3b76268606",
   "metadata": {},
   "outputs": [
    {
     "data": {
      "text/plain": [
       "ph                 float64\n",
       "Hardness           float64\n",
       "Solids             float64\n",
       "Chloramines        float64\n",
       "Sulfate            float64\n",
       "Organic_carbon     float64\n",
       "Trihalomethanes    float64\n",
       "Turbidity          float64\n",
       "Check                int64\n",
       "dtype: object"
      ]
     },
     "execution_count": 3,
     "metadata": {},
     "output_type": "execute_result"
    }
   ],
   "source": [
    "# Checking datatypes\n",
    "water_quality.dtypes"
   ]
  },
  {
   "cell_type": "code",
   "execution_count": 4,
   "id": "e95ec046-0ca7-409d-9f83-7a56b3a582d7",
   "metadata": {},
   "outputs": [
    {
     "data": {
      "text/plain": [
       "ph                 491\n",
       "Hardness             0\n",
       "Solids               0\n",
       "Chloramines          0\n",
       "Sulfate            781\n",
       "Organic_carbon       0\n",
       "Trihalomethanes    162\n",
       "Turbidity            0\n",
       "Check                0\n",
       "dtype: int64"
      ]
     },
     "execution_count": 4,
     "metadata": {},
     "output_type": "execute_result"
    }
   ],
   "source": [
    "# Checking for all missing values\n",
    "water_quality.isna().sum()"
   ]
  },
  {
   "cell_type": "markdown",
   "id": "92567db4-f3fa-480d-b6bf-9f5646271c8b",
   "metadata": {},
   "source": [
    "#### Filling all missing values with the mean"
   ]
  },
  {
   "cell_type": "code",
   "execution_count": 5,
   "id": "c320cf0c-1149-43d0-b729-9fca12fb260f",
   "metadata": {},
   "outputs": [],
   "source": [
    "# Filling the \"ph\" column\n",
    "water_quality[\"ph\"].fillna(water_quality[\"ph\"].mean(), inplace=True)\n",
    "\n",
    "# Filling the \"Sulfate\" column\n",
    "water_quality[\"Sulfate\"].fillna(water_quality[\"Sulfate\"].mean(), inplace=True)\n",
    "\n",
    "# Filling the \"Trihalomethanes\" column\n",
    "water_quality[\"Trihalomethanes\"].fillna(water_quality[\"Trihalomethanes\"].mean(), inplace=True)"
   ]
  },
  {
   "cell_type": "code",
   "execution_count": 6,
   "id": "2237b346-5b5a-4bbd-8d23-272513c1dcc2",
   "metadata": {},
   "outputs": [
    {
     "data": {
      "text/plain": [
       "ph                 0\n",
       "Hardness           0\n",
       "Solids             0\n",
       "Chloramines        0\n",
       "Sulfate            0\n",
       "Organic_carbon     0\n",
       "Trihalomethanes    0\n",
       "Turbidity          0\n",
       "Check              0\n",
       "dtype: int64"
      ]
     },
     "execution_count": 6,
     "metadata": {},
     "output_type": "execute_result"
    }
   ],
   "source": [
    "# Rechecking for missing values\n",
    "water_quality.isna().sum()"
   ]
  },
  {
   "cell_type": "code",
   "execution_count": 7,
   "id": "2716e497-84b2-40c4-81bd-1ea309fc2b60",
   "metadata": {},
   "outputs": [
    {
     "data": {
      "text/html": [
       "<div>\n",
       "<style scoped>\n",
       "    .dataframe tbody tr th:only-of-type {\n",
       "        vertical-align: middle;\n",
       "    }\n",
       "\n",
       "    .dataframe tbody tr th {\n",
       "        vertical-align: top;\n",
       "    }\n",
       "\n",
       "    .dataframe thead th {\n",
       "        text-align: right;\n",
       "    }\n",
       "</style>\n",
       "<table border=\"1\" class=\"dataframe\">\n",
       "  <thead>\n",
       "    <tr style=\"text-align: right;\">\n",
       "      <th></th>\n",
       "      <th>ph</th>\n",
       "      <th>Hardness</th>\n",
       "      <th>Solids</th>\n",
       "      <th>Chloramines</th>\n",
       "      <th>Sulfate</th>\n",
       "      <th>Organic_carbon</th>\n",
       "      <th>Trihalomethanes</th>\n",
       "      <th>Turbidity</th>\n",
       "      <th>Check</th>\n",
       "    </tr>\n",
       "  </thead>\n",
       "  <tbody>\n",
       "    <tr>\n",
       "      <th>0</th>\n",
       "      <td>7.080795</td>\n",
       "      <td>204.890456</td>\n",
       "      <td>20791.31898</td>\n",
       "      <td>7.300212</td>\n",
       "      <td>368.516441</td>\n",
       "      <td>10.379783</td>\n",
       "      <td>86.990970</td>\n",
       "      <td>2.963135</td>\n",
       "      <td>0</td>\n",
       "    </tr>\n",
       "    <tr>\n",
       "      <th>1</th>\n",
       "      <td>3.716080</td>\n",
       "      <td>129.422921</td>\n",
       "      <td>18630.05786</td>\n",
       "      <td>6.635246</td>\n",
       "      <td>333.775777</td>\n",
       "      <td>15.180013</td>\n",
       "      <td>56.329076</td>\n",
       "      <td>4.500656</td>\n",
       "      <td>0</td>\n",
       "    </tr>\n",
       "    <tr>\n",
       "      <th>2</th>\n",
       "      <td>8.099124</td>\n",
       "      <td>224.236259</td>\n",
       "      <td>19909.54173</td>\n",
       "      <td>9.275884</td>\n",
       "      <td>333.775777</td>\n",
       "      <td>16.868637</td>\n",
       "      <td>66.420093</td>\n",
       "      <td>3.055934</td>\n",
       "      <td>0</td>\n",
       "    </tr>\n",
       "    <tr>\n",
       "      <th>3</th>\n",
       "      <td>8.316766</td>\n",
       "      <td>214.373394</td>\n",
       "      <td>22018.41744</td>\n",
       "      <td>8.059332</td>\n",
       "      <td>356.886136</td>\n",
       "      <td>18.436525</td>\n",
       "      <td>100.341674</td>\n",
       "      <td>4.628771</td>\n",
       "      <td>0</td>\n",
       "    </tr>\n",
       "    <tr>\n",
       "      <th>4</th>\n",
       "      <td>9.092223</td>\n",
       "      <td>181.101509</td>\n",
       "      <td>17978.98634</td>\n",
       "      <td>6.546600</td>\n",
       "      <td>310.135738</td>\n",
       "      <td>11.558279</td>\n",
       "      <td>31.997993</td>\n",
       "      <td>4.075075</td>\n",
       "      <td>0</td>\n",
       "    </tr>\n",
       "  </tbody>\n",
       "</table>\n",
       "</div>"
      ],
      "text/plain": [
       "         ph    Hardness       Solids  Chloramines     Sulfate  Organic_carbon  \\\n",
       "0  7.080795  204.890456  20791.31898     7.300212  368.516441       10.379783   \n",
       "1  3.716080  129.422921  18630.05786     6.635246  333.775777       15.180013   \n",
       "2  8.099124  224.236259  19909.54173     9.275884  333.775777       16.868637   \n",
       "3  8.316766  214.373394  22018.41744     8.059332  356.886136       18.436525   \n",
       "4  9.092223  181.101509  17978.98634     6.546600  310.135738       11.558279   \n",
       "\n",
       "   Trihalomethanes  Turbidity  Check  \n",
       "0        86.990970   2.963135      0  \n",
       "1        56.329076   4.500656      0  \n",
       "2        66.420093   3.055934      0  \n",
       "3       100.341674   4.628771      0  \n",
       "4        31.997993   4.075075      0  "
      ]
     },
     "execution_count": 7,
     "metadata": {},
     "output_type": "execute_result"
    }
   ],
   "source": [
    "water_quality.head()"
   ]
  },
  {
   "cell_type": "markdown",
   "id": "4cfabcc9-1173-4181-b15a-71c9dc1527e6",
   "metadata": {},
   "source": [
    "### Plotting the data disribution"
   ]
  },
  {
   "cell_type": "code",
   "execution_count": 20,
   "id": "1a6cad5e-761d-4486-af5d-8611acddc515",
   "metadata": {},
   "outputs": [
    {
     "data": {
      "image/png": "[encoded data removed]",
      "text/plain": [
       "<Figure size 640x480 with 1 Axes>"
      ]
     },
     "metadata": {},
     "output_type": "display_data"
    }
   ],
   "source": [
    "fig, ax = plt.subplots()\n",
    "ax.plot(water_quality[\"ph\"]);\n",
    "plt.title(\"ph\");"
   ]
  },
  {
   "cell_type": "code",
   "execution_count": 18,
   "id": "4224c883-ab9d-4034-af54-6a410b655f78",
   "metadata": {},
   "outputs": [
    {
     "data": {
      "image/png": "[encoded data removed]",
      "text/plain": [
       "<Figure size 640x480 with 1 Axes>"
      ]
     },
     "metadata": {},
     "output_type": "display_data"
    }
   ],
   "source": [
    "# Checking the distribution of Check data\n",
    "fig, ax = plt.subplots()\n",
    "ax.hist(water_quality[\"Check\"])\n",
    "plt.title(\"Check\");"
   ]
  },
  {
   "cell_type": "code",
   "execution_count": 19,
   "id": "ea087b43-131f-470c-85c7-8ea1885df7bf",
   "metadata": {},
   "outputs": [
    {
     "data": {
      "image/png": "[encoded data removed]",
      "text/plain": [
       "<Figure size 640x480 with 1 Axes>"
      ]
     },
     "metadata": {},
     "output_type": "display_data"
    }
   ],
   "source": [
    "# Checking the distribution of Check data\n",
    "fig, ax = plt.subplots()\n",
    "ax.hist(water_quality[\"Organic_carbon\"])\n",
    "plt.title(\"Organic_carbon\");"
   ]
  },
  {
   "cell_type": "markdown",
   "id": "84d2a63f-cc5c-4b78-aa9a-e22f1c584599",
   "metadata": {},
   "source": [
    "### Splitting the Data into train & test splits"
   ]
  },
  {
   "cell_type": "code",
   "execution_count": 25,
   "id": "f1ec4e73-dc93-4583-ada9-c0d5e7f78017",
   "metadata": {},
   "outputs": [
    {
     "data": {
      "text/html": [
       "<div>\n",
       "<style scoped>\n",
       "    .dataframe tbody tr th:only-of-type {\n",
       "        vertical-align: middle;\n",
       "    }\n",
       "\n",
       "    .dataframe tbody tr th {\n",
       "        vertical-align: top;\n",
       "    }\n",
       "\n",
       "    .dataframe thead th {\n",
       "        text-align: right;\n",
       "    }\n",
       "</style>\n",
       "<table border=\"1\" class=\"dataframe\">\n",
       "  <thead>\n",
       "    <tr style=\"text-align: right;\">\n",
       "      <th></th>\n",
       "      <th>ph</th>\n",
       "      <th>Hardness</th>\n",
       "      <th>Solids</th>\n",
       "      <th>Chloramines</th>\n",
       "      <th>Sulfate</th>\n",
       "      <th>Organic_carbon</th>\n",
       "      <th>Trihalomethanes</th>\n",
       "      <th>Turbidity</th>\n",
       "    </tr>\n",
       "  </thead>\n",
       "  <tbody>\n",
       "    <tr>\n",
       "      <th>0</th>\n",
       "      <td>7.080795</td>\n",
       "      <td>204.890456</td>\n",
       "      <td>20791.31898</td>\n",
       "      <td>7.300212</td>\n",
       "      <td>368.516441</td>\n",
       "      <td>10.379783</td>\n",
       "      <td>86.990970</td>\n",
       "      <td>2.963135</td>\n",
       "    </tr>\n",
       "    <tr>\n",
       "      <th>1</th>\n",
       "      <td>3.716080</td>\n",
       "      <td>129.422921</td>\n",
       "      <td>18630.05786</td>\n",
       "      <td>6.635246</td>\n",
       "      <td>333.775777</td>\n",
       "      <td>15.180013</td>\n",
       "      <td>56.329076</td>\n",
       "      <td>4.500656</td>\n",
       "    </tr>\n",
       "    <tr>\n",
       "      <th>2</th>\n",
       "      <td>8.099124</td>\n",
       "      <td>224.236259</td>\n",
       "      <td>19909.54173</td>\n",
       "      <td>9.275884</td>\n",
       "      <td>333.775777</td>\n",
       "      <td>16.868637</td>\n",
       "      <td>66.420093</td>\n",
       "      <td>3.055934</td>\n",
       "    </tr>\n",
       "    <tr>\n",
       "      <th>3</th>\n",
       "      <td>8.316766</td>\n",
       "      <td>214.373394</td>\n",
       "      <td>22018.41744</td>\n",
       "      <td>8.059332</td>\n",
       "      <td>356.886136</td>\n",
       "      <td>18.436525</td>\n",
       "      <td>100.341674</td>\n",
       "      <td>4.628771</td>\n",
       "    </tr>\n",
       "    <tr>\n",
       "      <th>4</th>\n",
       "      <td>9.092223</td>\n",
       "      <td>181.101509</td>\n",
       "      <td>17978.98634</td>\n",
       "      <td>6.546600</td>\n",
       "      <td>310.135738</td>\n",
       "      <td>11.558279</td>\n",
       "      <td>31.997993</td>\n",
       "      <td>4.075075</td>\n",
       "    </tr>\n",
       "  </tbody>\n",
       "</table>\n",
       "</div>"
      ],
      "text/plain": [
       "         ph    Hardness       Solids  Chloramines     Sulfate  Organic_carbon  \\\n",
       "0  7.080795  204.890456  20791.31898     7.300212  368.516441       10.379783   \n",
       "1  3.716080  129.422921  18630.05786     6.635246  333.775777       15.180013   \n",
       "2  8.099124  224.236259  19909.54173     9.275884  333.775777       16.868637   \n",
       "3  8.316766  214.373394  22018.41744     8.059332  356.886136       18.436525   \n",
       "4  9.092223  181.101509  17978.98634     6.546600  310.135738       11.558279   \n",
       "\n",
       "   Trihalomethanes  Turbidity  \n",
       "0        86.990970   2.963135  \n",
       "1        56.329076   4.500656  \n",
       "2        66.420093   3.055934  \n",
       "3       100.341674   4.628771  \n",
       "4        31.997993   4.075075  "
      ]
     },
     "execution_count": 25,
     "metadata": {},
     "output_type": "execute_result"
    }
   ],
   "source": [
    "x = water_quality.drop(\"Check\", axis=1)\n",
    "y = water_quality[\"Check\"]\n",
    "x.head()"
   ]
  },
  {
   "cell_type": "markdown",
   "id": "6c652c64-8842-4241-8613-15540ce14130",
   "metadata": {},
   "source": [
    "#### Designing the model\n",
    "\n"
   ]
  },
  {
   "cell_type": "code",
   "execution_count": 28,
   "id": "49bed7e4-14eb-47ae-8c9a-e81f5fcc04fd",
   "metadata": {},
   "outputs": [
    {
     "data": {
      "text/plain": [
       "0.6225839267548321"
      ]
     },
     "execution_count": 28,
     "metadata": {},
     "output_type": "execute_result"
    }
   ],
   "source": [
    "from sklearn.model_selection import train_test_split\n",
    "x_train, x_test, y_train, y_test = train_test_split(x,\n",
    "                                                   y,\n",
    "                                                   test_size=0.3)\n",
    "\n",
    "# Using SVM \n",
    "from sklearn import svm \n",
    "clf = svm.SVC()\n",
    "# Fiiting the svm model\n",
    "clf.fit(x_train, y_train)\n",
    "clf.score(x_test, y_test)"
   ]
  },
  {
   "cell_type": "code",
   "execution_count": 29,
   "id": "b5cb5c84-9ab7-45be-ab09-f202c939cb9d",
   "metadata": {},
   "outputs": [
    {
     "data": {
      "text/plain": [
       "0.6826042726347915"
      ]
     },
     "execution_count": 29,
     "metadata": {},
     "output_type": "execute_result"
    }
   ],
   "source": [
    "from sklearn.ensemble import RandomForestClassifier\n",
    "\n",
    "# Instantiating the model\n",
    "clf = RandomForestClassifier()\n",
    "# Fitting the model\n",
    "clf.fit(x_train, y_train)\n",
    "clf.score(x_test, y_test)"
   ]
  },
  {
   "cell_type": "markdown",
   "id": "eef6e9e4-5c52-4c6a-b787-2e9033ea5dc5",
   "metadata": {},
   "source": [
    "### Evaluating the model\n"
   ]
  },
  {
   "cell_type": "code",
   "execution_count": 33,
   "id": "f2a3778a-f155-44ed-b540-9ca8cb7fe356",
   "metadata": {},
   "outputs": [],
   "source": [
    "y_pred = clf.predict(x_test)"
   ]
  },
  {
   "cell_type": "code",
   "execution_count": 34,
   "id": "3f1e6f46-2dba-435d-9fbd-78b971727aa9",
   "metadata": {},
   "outputs": [
    {
     "name": "stdout",
     "output_type": "stream",
     "text": [
      "              precision    recall  f1-score   support\n",
      "\n",
      "           0       0.90      0.69      0.78       796\n",
      "           1       0.33      0.66      0.44       187\n",
      "\n",
      "    accuracy                           0.68       983\n",
      "   macro avg       0.61      0.67      0.61       983\n",
      "weighted avg       0.79      0.68      0.71       983\n",
      "\n"
     ]
    }
   ],
   "source": [
    "from sklearn.metrics import classification_report\n",
    "\n",
    "print(classification_report(y_pred, y_test))"
   ]
  },
  {
   "cell_type": "markdown",
   "id": "898a1325-5119-42ba-aa63-2e58b4d5ba04",
   "metadata": {},
   "source": [
    "### Saving the model"
   ]
  },
  {
   "cell_type": "code",
   "execution_count": 35,
   "id": "41fa0d60-544d-44b7-adee-5fa95b50d2aa",
   "metadata": {},
   "outputs": [
    {
     "data": {
      "text/plain": [
       "['clf_random_forest_water_quality_model.joblib']"
      ]
     },
     "execution_count": 35,
     "metadata": {},
     "output_type": "execute_result"
    }
   ],
   "source": [
    "from joblib import dump, load\n",
    "\n",
    "# save model to file\n",
    "dump(clf, filename=\"clf_random_forest_water_quality_model.joblib\")"
   ]
  },
  {
   "cell_type": "code",
   "execution_count": null,
   "id": "712882b4-9c69-4ed0-aea9-c07ca168a9f9",
   "metadata": {},
   "outputs": [],
   "source": []
  }
 ],
 "metadata": {
  "kernelspec": {
   "display_name": "Python 3 (ipykernel)",
   "language": "python",
   "name": "python3"
  },
  "language_info": {
   "codemirror_mode": {
    "name": "ipython",
    "version": 3
   },
   "file_extension": ".py",
   "mimetype": "text/x-python",
   "name": "python",
   "nbconvert_exporter": "python",
   "pygments_lexer": "ipython3",
   "version": "3.10.13"
  }
 },
 "nbformat": 4,
 "nbformat_minor": 5
}
